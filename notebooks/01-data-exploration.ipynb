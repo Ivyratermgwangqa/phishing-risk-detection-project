{
 "cells": [
  {
   "cell_type": "code",
   "execution_count": 1,
   "id": "b13c324e",
   "metadata": {},
   "outputs": [
    {
     "name": "stdout",
     "output_type": "stream",
     "text": [
      "Note: you may need to restart the kernel to use updated packages.\n"
     ]
    },
    {
     "ename": "ModuleNotFoundError",
     "evalue": "No module named 'pandas'",
     "output_type": "error",
     "traceback": [
      "\u001b[0;31m---------------------------------------------------------------------------\u001b[0m",
      "\u001b[0;31mModuleNotFoundError\u001b[0m                       Traceback (most recent call last)",
      "Cell \u001b[0;32mIn[1], line 22\u001b[0m\n\u001b[1;32m     19\u001b[0m get_ipython()\u001b[38;5;241m.\u001b[39mrun_line_magic(\u001b[38;5;124m'\u001b[39m\u001b[38;5;124mpip\u001b[39m\u001b[38;5;124m'\u001b[39m, \u001b[38;5;124m'\u001b[39m\u001b[38;5;124minstall --quiet matplotlib\u001b[39m\u001b[38;5;124m'\u001b[39m)\n\u001b[1;32m     21\u001b[0m \u001b[38;5;28;01mimport\u001b[39;00m\u001b[38;5;250m \u001b[39m\u001b[38;5;21;01mos\u001b[39;00m\n\u001b[0;32m---> 22\u001b[0m \u001b[38;5;28;01mimport\u001b[39;00m\u001b[38;5;250m \u001b[39m\u001b[38;5;21;01mpandas\u001b[39;00m\u001b[38;5;250m \u001b[39m\u001b[38;5;28;01mas\u001b[39;00m\u001b[38;5;250m \u001b[39m\u001b[38;5;21;01mpd\u001b[39;00m\n\u001b[1;32m     23\u001b[0m \u001b[38;5;28;01mimport\u001b[39;00m\u001b[38;5;250m \u001b[39m\u001b[38;5;21;01mmatplotlib\u001b[39;00m\u001b[38;5;21;01m.\u001b[39;00m\u001b[38;5;21;01mpyplot\u001b[39;00m\u001b[38;5;250m \u001b[39m\u001b[38;5;28;01mas\u001b[39;00m\u001b[38;5;250m \u001b[39m\u001b[38;5;21;01mplt\u001b[39;00m\n\u001b[1;32m     25\u001b[0m \u001b[38;5;66;03m# Set data paths\u001b[39;00m\n",
      "\u001b[0;31mModuleNotFoundError\u001b[0m: No module named 'pandas'"
     ]
    }
   ],
   "source": [
    "# 01-data-exploration.ipynb\n",
    "# Data Exploration: PhishTank & Enron\n",
    "\n",
    "\"\"\"\n",
    "## 01 - Data Exploration\n",
    "\n",
    "This notebook performs initial exploration of the raw datasets:\n",
    "\n",
    "1. Load PhishTank phishing URL dump.\n",
    "2. Load Enron email dataset (parsed CSV).\n",
    "3. Inspect basic stats (counts, missing values).\n",
    "4. Quick EDA on URL lengths, creation dates distribution, sender domains.\n",
    "5. Save summary CSVs for feature development.\n",
    "\"\"\"\n",
    "\n",
    "#%%\n",
    "# 1. Imports and Configuration\n",
    "# Ensure required plotting package is available in the notebook environment\n",
    "%pip install --quiet matplotlib\n",
    "\n",
    "import os\n",
    "import pandas as pd\n",
    "import matplotlib.pyplot as plt\n",
    "\n",
    "# Set data paths\n",
    "PHISHANK_CSV = os.path.join('..','data','raw','phishtank_urls.csv')\n",
    "ENRON_CSV    = os.path.join('..','data','raw','enron_emails.csv')  # after parse_enron\n",
    "\n",
    "#%%\n",
    "# 2. Load Data\n",
    "phish_df = pd.read_csv(PHISHANK_CSV)\n",
    "enron_df = pd.read_csv(ENRON_CSV)\n",
    "\n",
    "print(f\"Phishing URLs: {len(phish_df)} rows\")\n",
    "print(f\"Enron emails:   {len(enron_df)} rows\")\n",
    "\n",
    "#%%\n",
    "# 3. Basic Stats\n",
    "# Missing values\n",
    "print(\"PhishTank Missing: \\n\", phish_df.isnull().sum())\n",
    "print(\"Enron Missing: \\n\", enron_df.isnull().sum())\n",
    "\n",
    "# Unique senders in Enron\n",
    "print(\"Unique senders:\", enron_df['sender'].nunique())\n",
    "\n",
    "#%%\n",
    "# 4. EDA - URL length distribution\n",
    "phish_df['url_length'] = phish_df['url'].str.len()\n",
    "plt.hist(phish_df['url_length'], bins=50)\n",
    "plt.title('Distribution of Phishing URL Lengths')\n",
    "plt.xlabel('Length')\n",
    "plt.ylabel('Count')\n",
    "plt.show()\n",
    "\n",
    "#%%\n",
    "# 5. EDA - Sender domain frequency\n",
    "# extract domain from 'sender'\n",
    "enron_df['sender_domain'] = enron_df['sender'].str.extract(r\"@(.*)\")\n",
    "top_senders = enron_df['sender_domain'].value_counts().head(20)\n",
    "top_senders.plot(kind='barh')\n",
    "plt.title('Top 20 Sender Domains in Enron Corpus')\n",
    "plt.xlabel('Email Count')\n",
    "plt.show()\n",
    "\n",
    "#%%\n",
    "# 6. Save summaries for feature engineering\n",
    "phish_df[['url','url_length']].to_csv(os.path.join('..','data','processed','phish_url_summary.csv'), index=False)\n",
    "enron_df[['sender','sender_domain']].to_csv(os.path.join('..','data','processed','enron_senders.csv'), index=False)\n"
   ]
  }
 ],
 "metadata": {
  "kernelspec": {
   "display_name": ".venv",
   "language": "python",
   "name": "python3"
  },
  "language_info": {
   "codemirror_mode": {
    "name": "ipython",
    "version": 3
   },
   "file_extension": ".py",
   "mimetype": "text/x-python",
   "name": "python",
   "nbconvert_exporter": "python",
   "pygments_lexer": "ipython3",
   "version": "3.10.12"
  }
 },
 "nbformat": 4,
 "nbformat_minor": 5
}
